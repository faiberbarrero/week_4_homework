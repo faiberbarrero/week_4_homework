{
 "cells": [
  {
   "cell_type": "markdown",
   "metadata": {},
   "source": [
    "# Classic Algorithms"
   ]
  },
  {
   "cell_type": "markdown",
   "metadata": {},
   "source": [
    "## Tasks Today:\n",
    " \n",
    "1) <b>In-Place Algorithms</b> <br>\n",
    " &nbsp;&nbsp;&nbsp;&nbsp; a) Syntax <br>\n",
    " &nbsp;&nbsp;&nbsp;&nbsp; a) Out of Place Algorithm <br>\n",
    " &nbsp;&nbsp;&nbsp;&nbsp; b) In-Class Exercise #1 <br>\n",
    "2) <b>Two Pointers</b> <br>\n",
    "3) <b>Linked Lists</b> <br>\n",
    "4) <b>Merge Sort</b> <br>\n",
    " &nbsp;&nbsp;&nbsp;&nbsp; a) Video on Algorithms <br>\n",
    " &nbsp;&nbsp;&nbsp;&nbsp; b) How it Works <br>\n",
    "5) <b>Exercises</b> <br>\n",
    " &nbsp;&nbsp;&nbsp;&nbsp; a) Exercise #1 - Reverse a List in Place Using an In-Place Algorithm <br>\n",
    " &nbsp;&nbsp;&nbsp;&nbsp; b) Exercise #2 - Find Distinct Words <br>\n",
    " &nbsp;&nbsp;&nbsp;&nbsp; c) Exercise #3 - Write a program to implement a Linear Search Algorithm. <br>"
   ]
  },
  {
   "cell_type": "markdown",
   "metadata": {},
   "source": [
    "## In-Place Algorithms"
   ]
  },
  {
   "cell_type": "markdown",
   "metadata": {},
   "source": [
    "#### Syntax"
   ]
  },
  {
   "cell_type": "code",
   "execution_count": 2,
   "metadata": {},
   "outputs": [
    {
     "name": "stdout",
     "output_type": "stream",
     "text": [
      "[10, 20, 30] before swap\n",
      "[10, 30, 20] after swap\n"
     ]
    }
   ],
   "source": [
    "# var(i), var[i+1] = var[i+1], var[i]\n",
    "# sometimes referred to as the Swap Algorithm\n",
    "\n",
    "def swap(alist,x,y):\n",
    "    alist[x],alist[y] = alist[y],alist[x]\n",
    "    return alist\n",
    "\n",
    "my_list = [10,20,30]\n",
    "print(my_list,'before swap')\n",
    "\n",
    "swap(my_list,1,2)\n",
    "print(my_list,'after swap')"
   ]
  },
  {
   "cell_type": "markdown",
   "metadata": {},
   "source": [
    "#### Out of Place Algorithm"
   ]
  },
  {
   "cell_type": "code",
   "execution_count": 4,
   "metadata": {},
   "outputs": [
    {
     "name": "stdout",
     "output_type": "stream",
     "text": [
      "[20, 30, 10]\n",
      "before ['a', 'b', 'c', 'd']\n",
      "after ['d', 'c', 'b', 'a']\n"
     ]
    }
   ],
   "source": [
    "# reverse a list\n",
    "# Create a reversed copy of the list\n",
    "\n",
    "my_list_copy = my_list[::-1]\n",
    "print(my_list_copy)\n",
    "\n",
    "\n",
    "array = ['a','b','c','d']\n",
    "new_array = ['a'] * len(array)\n",
    "print('before', array)\n",
    "\n",
    "length = len(array) -1\n",
    "\n",
    "for i in range(length):\n",
    "    new_array[i] = array[length - i]\n",
    "    \n",
    "array = new_array\n",
    "print('after', array)"
   ]
  },
  {
   "cell_type": "markdown",
   "metadata": {},
   "source": [
    "#### In-Class Exercise #1 <br>\n",
    "<p>Write a function that takes in four arguments (list, index1, index2, index3), and swaps those three positions in the list passed in.</p>"
   ]
  },
  {
   "cell_type": "code",
   "execution_count": 5,
   "metadata": {},
   "outputs": [
    {
     "name": "stdout",
     "output_type": "stream",
     "text": [
      "[10, 8, 3, 4, 4, 2, 6]\n"
     ]
    }
   ],
   "source": [
    "l_1 = [10, 4, 3, 8, 4, 2, 6]\n",
    "\n",
    "def swap_1(list1, index1, index2, index3):\n",
    "    list1[index1],list1[index2],list1[index3] = list1[index3],list1[index2],list1[index1]\n",
    "    \n",
    "    \n",
    "swap_1(l_1,1,2,3)\n",
    "print(l_1)\n"
   ]
  },
  {
   "cell_type": "markdown",
   "metadata": {},
   "source": [
    "## Two Pointers"
   ]
  },
  {
   "cell_type": "markdown",
   "metadata": {},
   "source": [
    "#### Syntax"
   ]
  },
  {
   "cell_type": "code",
   "execution_count": 6,
   "metadata": {},
   "outputs": [
    {
     "data": {
      "text/plain": [
       "[22, 11, 4, 8, 9, 12, 3, 2, 1]"
      ]
     },
     "execution_count": 6,
     "metadata": {},
     "output_type": "execute_result"
    }
   ],
   "source": [
    "# alist[left], alist[right] = alist[right], alist[left]\n",
    "# use these two pointers to swap while we loop (in most cases)\n",
    "\n",
    "def twoPointers(blist):\n",
    "    #create pointes\n",
    "    left = 0\n",
    "    right = len(blist)-1\n",
    "    \n",
    "    while left <= right:\n",
    "        blist[left],blist[right] = blist[right],blist[left]\n",
    "        left += 1\n",
    "        right -= 1\n",
    "    return blist\n",
    "\n",
    "my_list2 = [1,2,3,12,9,8,4,11,22]\n",
    "twoPointers(my_list2)\n"
   ]
  },
  {
   "cell_type": "markdown",
   "metadata": {},
   "source": [
    "#### Video of Algorithms <br>\n",
    "<p>Watch the video about algorithms.</p>\n",
    "\n",
    "https://www.youtube.com/watch?v=Q9HjeFD62Uk\n",
    "\n",
    "https://www.youtube.com/watch?v=kPRA0W1kECg\n",
    "\n",
    "https://www.youtube.com/watch?v=ZZuD6iUe3Pc"
   ]
  },
  {
   "cell_type": "markdown",
   "metadata": {},
   "source": [
    "# Sorting Algorithms"
   ]
  },
  {
   "cell_type": "markdown",
   "metadata": {},
   "source": [
    "#### Bubble Sort\n",
    "\n",
    "Worst Case: O(n^2) Time - O(1) Space"
   ]
  },
  {
   "cell_type": "code",
   "execution_count": 7,
   "metadata": {},
   "outputs": [
    {
     "data": {
      "text/plain": [
       "[1, 22, 34, 44, 55, 66, 88, 100]"
      ]
     },
     "execution_count": 7,
     "metadata": {},
     "output_type": "execute_result"
    }
   ],
   "source": [
    "def swap_2(i,j,array):\n",
    "    array[i],array[j] = array[j],array[i]\n",
    "\n",
    "def bubbleSort(array):\n",
    "    isSorted = False # This is a flag\n",
    "    while not isSorted:\n",
    "        isSorted = True\n",
    "        for num in range(len(array) - 1):\n",
    "            if array[num] > array[num+1]:\n",
    "                swap_2(num, num+1, array)\n",
    "                isSorted = False\n",
    "    return array\n",
    "bubbleSort([22,55,88,44,1,100,34,66])\n"
   ]
  },
  {
   "cell_type": "markdown",
   "metadata": {},
   "source": [
    "##### Insertion Sort\n",
    "\n",
    "Worst Case: O(n^2) time - O(1)space"
   ]
  },
  {
   "cell_type": "code",
   "execution_count": 16,
   "metadata": {},
   "outputs": [
    {
     "data": {
      "text/plain": [
       "[1, 22, 34, 44, 55, 66, 88, 100]"
      ]
     },
     "execution_count": 16,
     "metadata": {},
     "output_type": "execute_result"
    }
   ],
   "source": [
    "def swap_3(i,j,array):\n",
    "    array[i],array[j] = array[j],array[i]\n",
    "    \n",
    "def insertSort(array):\n",
    "    for i in range(1,len(array)):\n",
    "        j = i \n",
    "        while j > 0 and array[j] < array[j-1]:\n",
    "            swap_3(j, j-1, array)\n",
    "            j -= 1\n",
    "    return array\n",
    "\n",
    "insertSort([22,55,88,44,1,100,34,66])"
   ]
  },
  {
   "cell_type": "markdown",
   "metadata": {},
   "source": [
    "## Merge Sort"
   ]
  },
  {
   "cell_type": "markdown",
   "metadata": {},
   "source": [
    "#### How it Works"
   ]
  },
  {
   "cell_type": "code",
   "execution_count": 29,
   "metadata": {},
   "outputs": [
    {
     "name": "stdout",
     "output_type": "stream",
     "text": [
      "splitting.... [3, 0, 10, 8, 2, 0, 0, 8]\n",
      "splitting.... [3, 0, 10, 8]\n",
      "splitting.... [3, 0]\n",
      "splitting.... [3]\n",
      "Merging... [3]\n",
      "splitting.... [0]\n",
      "Merging... [0]\n",
      "Merging... [0, 3]\n",
      "splitting.... [10, 8]\n",
      "splitting.... [10]\n",
      "Merging... [10]\n",
      "splitting.... [8]\n",
      "Merging... [8]\n",
      "Merging... [8, 10]\n",
      "Merging... [0, 3, 8, 10]\n",
      "splitting.... [2, 0, 0, 8]\n",
      "splitting.... [2, 0]\n",
      "splitting.... [2]\n",
      "Merging... [2]\n",
      "splitting.... [0]\n",
      "Merging... [0]\n",
      "Merging... [0, 2]\n",
      "splitting.... [0, 8]\n",
      "splitting.... [0]\n",
      "Merging... [0]\n",
      "splitting.... [8]\n",
      "Merging... [8]\n",
      "Merging... [0, 8]\n",
      "Merging... [0, 0, 2, 8]\n",
      "Merging... [0, 0, 0, 2, 3, 8, 8, 10]\n"
     ]
    },
    {
     "data": {
      "text/plain": [
       "[0, 0, 0, 2, 3, 8, 8, 10]"
      ]
     },
     "execution_count": 29,
     "metadata": {},
     "output_type": "execute_result"
    }
   ],
   "source": [
    "# step 1 :split everything into its own group\n",
    "# step 3 :prom left to right merge the groups together\n",
    "# step 4: while merging, place each item in the correct position (within merged groups)\n",
    "# step 5: continue steps 3-4 until one group left\n",
    "\n",
    "from random import randint\n",
    "nums = [randint(0,10) for i in range(8)]\n",
    "\n",
    "#write mergeSort\n",
    "def mergeSort(array):\n",
    "    print('splitting....', array)\n",
    "    \n",
    "    #step 1: divid the array into equal parts\n",
    "    if len(array) > 1:\n",
    "        mid = len(array) // 2\n",
    "        lefthalf = array[:mid]\n",
    "        righthalf = array[mid:]\n",
    "        \n",
    "        # recursevely call mergeSort to perform split\n",
    "        # then merge the lists once splits are done\n",
    "        mergeSort(lefthalf)\n",
    "        mergeSort(righthalf)\n",
    "        \n",
    "        # index pointers\n",
    "        l = 0 # pointer for lefthalf\n",
    "        r = 0 # pointer for righthalf\n",
    "        m = 0 # pointer for main array\n",
    "        \n",
    "        # step 2: Compare left and right halves\n",
    "        while l < len(lefthalf) and r < len(righthalf):\n",
    "            if lefthalf[l] < righthalf[r]:\n",
    "                array[m] = lefthalf[l]\n",
    "                l += 1\n",
    "            else:\n",
    "                array[m] = righthalf[r]\n",
    "                r += 1\n",
    "            m+=1\n",
    "            \n",
    "        # step 3: while merging place items in correct position\n",
    "        while l < len(lefthalf):\n",
    "            array[m] = lefthalf[l]\n",
    "            l += 1\n",
    "            m += 1\n",
    "        while r < len(righthalf):\n",
    "            array[m] = righthalf[r]\n",
    "            r += 1\n",
    "            m += 1\n",
    "    print('Merging...',array)\n",
    "    \n",
    "    return array\n",
    "\n",
    "mergeSort(nums)"
   ]
  },
  {
   "cell_type": "markdown",
   "metadata": {},
   "source": [
    "# Binary Search\n",
    "\n",
    "The Binary Search algorithm works by finding the number in the middle of a given array and comparing it to the target. Given that the array is sorted\n",
    "\n",
    "* The worst case run time for this algorithm is `O(log(n))`"
   ]
  },
  {
   "cell_type": "code",
   "execution_count": 33,
   "metadata": {},
   "outputs": [
    {
     "data": {
      "text/plain": [
       "'The index is ....6'"
      ]
     },
     "execution_count": 33,
     "metadata": {},
     "output_type": "execute_result"
    }
   ],
   "source": [
    "def binarySearchHelperFunction(array, target, left, right):\n",
    "    while left <= right:\n",
    "        middle = (left + right) // 2\n",
    "        potentialMatch = array[middle]\n",
    "        if target == potentialMatch:\n",
    "            return f'The index is ....{middle}'\n",
    "        elif target < potentialMatch:\n",
    "            right = middle - 1\n",
    "        else:\n",
    "            left = middle + 1\n",
    "    return - 1\n",
    "\n",
    "def binarySearch(array,target):\n",
    "    return binarySearchHelperFunction(array,target,0,len(array)-1)\n",
    "binarySearch(insertSort([22,55,88,44,1,100,34,66]),88)"
   ]
  },
  {
   "cell_type": "markdown",
   "metadata": {},
   "source": [
    "# Exercises"
   ]
  },
  {
   "cell_type": "markdown",
   "metadata": {},
   "source": [
    "### Exercise #1 <br>\n",
    "<p>Reverse the list below in-place using an in-place algorithm.<br>For extra credit: Reverse the strings at the same time.</p>"
   ]
  },
  {
   "cell_type": "code",
   "execution_count": 47,
   "metadata": {},
   "outputs": [
    {
     "name": "stdout",
     "output_type": "stream",
     "text": [
      "['.', 'sentence', 'a', 'is', 'this']\n"
     ]
    }
   ],
   "source": [
    "words = ['this' , 'is', 'a', 'sentence', '.']\n",
    "\n",
    "words.reverse()\n",
    "print(words)\n"
   ]
  },
  {
   "cell_type": "markdown",
   "metadata": {},
   "source": [
    "### Exercise #2 <br>\n",
    "<p>Create a function that counts how many distinct words are in the string below, then outputs a dictionary with the words as the key and the value as the amount of times that word appears in the string.<br>Should output:<br>{'a': 5,<br>\n",
    " 'abstract': 1,<br>\n",
    " 'an': 3,<br>\n",
    " 'array': 2, ... etc...</p>"
   ]
  },
  {
   "cell_type": "code",
   "execution_count": 46,
   "metadata": {},
   "outputs": [
    {
     "name": "stdout",
     "output_type": "stream",
     "text": [
      "{'in': 1, 'computing': 1, 'a': 5, 'hash': 4, 'table': 2, 'map': 2, 'is': 1, 'data': 2, 'structure': 2, 'which': 2, 'implements': 1, 'an': 3, 'associative': 1, 'array': 2, 'abstract': 1, 'type': 1, 'that': 1, 'can': 2, 'keys': 1, 'to': 2, 'values.': 1, 'uses': 1, 'function': 1, 'compute': 1, 'index': 1, 'into': 1, 'of': 1, 'buckets': 1, 'or': 1, 'slots': 1, 'from': 1, 'the': 1, 'desired': 1, 'value': 1, 'be': 1, 'found': 1}\n"
     ]
    }
   ],
   "source": [
    "a_text = 'In computing, a hash table hash map is a data structure which implements an associative array abstract data type, a structure that can map keys to values. A hash table uses a hash function to compute an index into an array of buckets or slots from which the desired value can be found'\n",
    "\n",
    "\n",
    "def word_search(test_string):\n",
    "    my_dict = {}\n",
    "    for i in a_text.split(' '):\n",
    "        cleaned_word = i.strip(',').lower()\n",
    "        if cleaned_word in my_dict:\n",
    "            my_dict[cleaned_word] += 1\n",
    "        else:\n",
    "            my_dict[cleaned_word] = 1\n",
    "    print(my_dict)\n",
    "word_search(a_text)"
   ]
  },
  {
   "cell_type": "markdown",
   "metadata": {},
   "source": [
    "## Exercise #3\n",
    "\n",
    "Write a program to implement a Linear Search Algorithm. Also in a comment, write the Time Complexity of the following algorithm.\n",
    "\n",
    "#### Hint: Linear Searching will require searching a list for a given number. "
   ]
  },
  {
   "cell_type": "code",
   "execution_count": 80,
   "metadata": {},
   "outputs": [
    {
     "name": "stdout",
     "output_type": "stream",
     "text": [
      "6\n"
     ]
    }
   ],
   "source": [
    "# linear search\n",
    "\n",
    "def my_search_algo(arr):\n",
    "    for x in arr: # linear O(n)\n",
    "        if len(arr) == x: # linear O(n) == O(n^2)\n",
    "            return x\n",
    "print(my_search_algo([8,8,5,8,4])) "
   ]
  }
 ],
 "metadata": {
  "kernelspec": {
   "display_name": "Python 3 (ipykernel)",
   "language": "python",
   "name": "python3"
  },
  "language_info": {
   "codemirror_mode": {
    "name": "ipython",
    "version": 3
   },
   "file_extension": ".py",
   "mimetype": "text/x-python",
   "name": "python",
   "nbconvert_exporter": "python",
   "pygments_lexer": "ipython3",
   "version": "3.9.7"
  }
 },
 "nbformat": 4,
 "nbformat_minor": 2
}
